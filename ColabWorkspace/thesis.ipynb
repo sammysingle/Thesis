{
  "nbformat": 4,
  "nbformat_minor": 0,
  "metadata": {
    "colab": {
      "provenance": [],
      "toc_visible": true,
      "mount_file_id": "1yU8CMX1cx3J0Zb6ITdRDHzdn-X1_hO_N",
      "authorship_tag": "ABX9TyNMfki/z/hC4DHVB+RAVpOW",
      "include_colab_link": true
    },
    "kernelspec": {
      "name": "python3",
      "display_name": "Python 3"
    },
    "language_info": {
      "name": "python"
    }
  },
  "cells": [
    {
      "cell_type": "markdown",
      "metadata": {
        "id": "view-in-github",
        "colab_type": "text"
      },
      "source": [
        "<a href=\"https://colab.research.google.com/github/sammysingle/Thesis/blob/main/ColabWorkspace/thesis.ipynb\" target=\"_parent\"><img src=\"https://colab.research.google.com/assets/colab-badge.svg\" alt=\"Open In Colab\"/></a>"
      ]
    },
    {
      "cell_type": "markdown",
      "source": [
        "# Image Preprocessing"
      ],
      "metadata": {
        "id": "Z17a00QembaE"
      }
    },
    {
      "cell_type": "code",
      "source": [],
      "metadata": {
        "id": "jz-QjLOCmfHn"
      },
      "execution_count": null,
      "outputs": []
    },
    {
      "cell_type": "markdown",
      "source": [
        "# Geometric Transformations Sample Image"
      ],
      "metadata": {
        "id": "vl5wTrUAlMiz"
      }
    },
    {
      "cell_type": "code",
      "execution_count": 25,
      "metadata": {
        "colab": {
          "base_uri": "https://localhost:8080/"
        },
        "id": "jGf5UKtAkWtg",
        "outputId": "8a1bba29-f09a-4e77-d6d1-d655d1cbe000"
      },
      "outputs": [
        {
          "output_type": "stream",
          "name": "stdout",
          "text": [
            "Rotator successful\n",
            "Shearer successful\n",
            "Zoomer successful\n",
            "Horizontal flip successful\n"
          ]
        }
      ],
      "source": [
        "# Import data augmentation functions\n",
        "from keras.preprocessing.image import ImageDataGenerator\n",
        "from tensorflow.keras.utils import array_to_img, img_to_array, load_img\n",
        "\n",
        "# Initialise ImageDataGenerator classes with augmentation parameters\n",
        "# Rotation by 45 degrees\n",
        "rotator = ImageDataGenerator(\n",
        "    rotation_range = 90\n",
        ")\n",
        "# Shear image\n",
        "shearer = ImageDataGenerator(\n",
        "    shear_range = 0.5\n",
        ")\n",
        "# Zoom image\n",
        "zoomer = ImageDataGenerator(\n",
        "    zoom_range = 0.5\n",
        ")\n",
        "# Horizontal flip\n",
        "horizontalFlipper = ImageDataGenerator(\n",
        "    horizontal_flip = True\n",
        ")\n",
        "\n",
        "# Load in image \n",
        "img = load_img('/content/drive/MyDrive/Colab Notebooks/Data Augmentation Samples/Geometric Transformation/tomato_sample.jpg')\n",
        "# Convert input to array\n",
        "imgArray = img_to_array(img)\n",
        "# Reshape input image\n",
        "imgArray = imgArray.reshape((1, ) + imgArray.shape)\n",
        "\n",
        "# Generate Rotate example\n",
        "for batch in rotator.flow(imgArray,\n",
        "                          batch_size = 1,\n",
        "                          save_to_dir = '/content/drive/MyDrive/Colab Notebooks/Data Augmentation Samples/Geometric Transformation/Output',\n",
        "                          save_prefix = 'rotated_sample',\n",
        "                          save_format = 'jpeg'):\n",
        "    print('Rotator successful')\n",
        "    break\n",
        "# Generate Shear example\n",
        "for batch in shearer.flow(imgArray, \n",
        "             batch_size = 1, \n",
        "             save_to_dir = '/content/drive/MyDrive/Colab Notebooks/Data Augmentation Samples/Geometric Transformation/Output',\n",
        "             save_prefix = 'sheared_sample',\n",
        "             save_format = 'jpeg'):\n",
        "    print('Shearer successful')\n",
        "    break\n",
        "# Generate Zoom example\n",
        "for batch in zoomer.flow(imgArray, \n",
        "             batch_size = 1, \n",
        "             save_to_dir = '/content/drive/MyDrive/Colab Notebooks/Data Augmentation Samples/Geometric Transformation/Output',\n",
        "             save_prefix = 'zoomed_sample',\n",
        "             save_format = 'jpeg'):\n",
        "    print('Zoomer successful')\n",
        "    break\n",
        "# Generate Horizontal flip example\n",
        "for batch in horizontalFlipper.flow(imgArray, \n",
        "             batch_size = 1, \n",
        "             save_to_dir = '/content/drive/MyDrive/Colab Notebooks/Data Augmentation Samples/Geometric Transformation/Output',\n",
        "             save_prefix = 'horizontal_flip_sample',\n",
        "             save_format = 'jpeg'):\n",
        "    print('Horizontal flip successful')\n",
        "    break"
      ]
    },
    {
      "cell_type": "markdown",
      "source": [
        "# Random Occlusions and Sample Image"
      ],
      "metadata": {
        "id": "C7JZz8vRXLFW"
      }
    },
    {
      "cell_type": "code",
      "source": [
        "!pip install Augmentor"
      ],
      "metadata": {
        "colab": {
          "base_uri": "https://localhost:8080/"
        },
        "id": "PDFkygN6YRYI",
        "outputId": "69d3ee3e-eae3-453c-9ab9-5e5b5e41487d"
      },
      "execution_count": 17,
      "outputs": [
        {
          "output_type": "stream",
          "name": "stdout",
          "text": [
            "Looking in indexes: https://pypi.org/simple, https://us-python.pkg.dev/colab-wheels/public/simple/\n",
            "Collecting Augmentor\n",
            "  Downloading Augmentor-0.2.10-py2.py3-none-any.whl (38 kB)\n",
            "Requirement already satisfied: future>=0.16.0 in /usr/local/lib/python3.7/dist-packages (from Augmentor) (0.16.0)\n",
            "Requirement already satisfied: Pillow>=5.2.0 in /usr/local/lib/python3.7/dist-packages (from Augmentor) (7.1.2)\n",
            "Requirement already satisfied: numpy>=1.11.0 in /usr/local/lib/python3.7/dist-packages (from Augmentor) (1.21.6)\n",
            "Requirement already satisfied: tqdm>=4.9.0 in /usr/local/lib/python3.7/dist-packages (from Augmentor) (4.64.1)\n",
            "Installing collected packages: Augmentor\n",
            "Successfully installed Augmentor-0.2.10\n"
          ]
        }
      ]
    },
    {
      "cell_type": "code",
      "source": [
        "# Import Augmentor package\n",
        "import Augmentor\n",
        "import os\n",
        "\n",
        "# Rename output files\n",
        "def renameFile(path, newName):\n",
        "    directory = os.listdir(path)\n",
        "    for file in directory:\n",
        "        os.rename(path+file, path+newName)\n",
        "\n",
        "# Apply random errasing over a set area for samples in path\n",
        "def randomErase(path, eraseArea, sampleSize):\n",
        "    pipe = Augmentor.Pipeline(path)\n",
        "    pipe.random_erasing(1, eraseArea)\n",
        "    pipe.sample(sampleSize)\n",
        "\n",
        "# First pass\n",
        "randomErase('/content/drive/MyDrive/Colab Notebooks/Data Augmentation Samples/Random Occlusion', 0.2, 1)\n",
        "# Second pass\n",
        "randomErase('/content/drive/MyDrive/Colab Notebooks/Data Augmentation Samples/Random Occlusion/output', 0.2, 1)\n",
        "# Third pass\n",
        "randomErase('/content/drive/MyDrive/Colab Notebooks/Data Augmentation Samples/Random Occlusion/output/output', 0.2, 1)\n",
        "# Rename file\n",
        "renameFile(r\"/content/drive/MyDrive/Colab Notebooks/Data Augmentation Samples/Random Occlusion/output/output/output/\", 'random_erasing.jpg')"
      ],
      "metadata": {
        "colab": {
          "base_uri": "https://localhost:8080/"
        },
        "id": "qzUjSzL_XQDu",
        "outputId": "1b3f8b10-f04e-4efb-8f6b-1d6cbca4e0b4"
      },
      "execution_count": 42,
      "outputs": [
        {
          "output_type": "stream",
          "name": "stdout",
          "text": [
            "Initialised with 1 image(s) found.\n",
            "Output directory set to /content/drive/MyDrive/Colab Notebooks/Data Augmentation Samples/Random Occlusion/output."
          ]
        },
        {
          "output_type": "stream",
          "name": "stderr",
          "text": [
            "Processing <PIL.JpegImagePlugin.JpegImageFile image mode=RGB size=225x225 at 0x7FF2DB2B2C10>: 100%|██████████| 1/1 [00:00<00:00, 60.94 Samples/s]\n"
          ]
        },
        {
          "output_type": "stream",
          "name": "stdout",
          "text": [
            "Initialised with 1 image(s) found.\n",
            "Output directory set to /content/drive/MyDrive/Colab Notebooks/Data Augmentation Samples/Random Occlusion/output/output."
          ]
        },
        {
          "output_type": "stream",
          "name": "stderr",
          "text": [
            "Processing <PIL.JpegImagePlugin.JpegImageFile image mode=RGB size=225x225 at 0x7FF2DC5AA550>: 100%|██████████| 1/1 [00:00<00:00, 52.17 Samples/s]\n"
          ]
        },
        {
          "output_type": "stream",
          "name": "stdout",
          "text": [
            "Initialised with 1 image(s) found.\n",
            "Output directory set to /content/drive/MyDrive/Colab Notebooks/Data Augmentation Samples/Random Occlusion/output/output/output."
          ]
        },
        {
          "output_type": "stream",
          "name": "stderr",
          "text": [
            "Processing <PIL.JpegImagePlugin.JpegImageFile image mode=RGB size=225x225 at 0x7FF2DC5AA2D0>: 100%|██████████| 1/1 [00:00<00:00, 66.95 Samples/s]\n"
          ]
        }
      ]
    }
  ]
}