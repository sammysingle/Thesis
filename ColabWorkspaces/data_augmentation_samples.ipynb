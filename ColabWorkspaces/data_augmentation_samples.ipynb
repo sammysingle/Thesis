{
  "nbformat": 4,
  "nbformat_minor": 0,
  "metadata": {
    "colab": {
      "provenance": [],
      "collapsed_sections": [
        "HmkX1RnshNFx",
        "NOwmY-_ahTXu"
      ],
      "authorship_tag": "ABX9TyPh2tlJMkZ4RC2bLbC5F/l5",
      "include_colab_link": true
    },
    "kernelspec": {
      "name": "python3",
      "display_name": "Python 3"
    },
    "language_info": {
      "name": "python"
    }
  },
  "cells": [
    {
      "cell_type": "markdown",
      "metadata": {
        "id": "view-in-github",
        "colab_type": "text"
      },
      "source": [
        "<a href=\"https://colab.research.google.com/github/sammysingle/Thesis/blob/main/ColabWorkspaces/data_augmentation_samples.ipynb\" target=\"_parent\"><img src=\"https://colab.research.google.com/assets/colab-badge.svg\" alt=\"Open In Colab\"/></a>"
      ]
    },
    {
      "cell_type": "markdown",
      "source": [
        "# Data Augmentation Samples"
      ],
      "metadata": {
        "id": "RqX98qHchNaP"
      }
    },
    {
      "cell_type": "code",
      "source": [
        "!pip install Augmentor"
      ],
      "metadata": {
        "id": "JlJbSrwshSW-"
      },
      "execution_count": null,
      "outputs": []
    },
    {
      "cell_type": "code",
      "source": [
        "# Import data augmentation functions\n",
        "import Augmentor\n",
        "\n",
        "# Define path of sample image for each augmentation\n",
        "base_path_set_one = '/content/drive/MyDrive/Colab Notebooks/Data Augmentation Samples/1 Distort and Flip'\n",
        "base_path_set_two = '/content/drive/MyDrive/Colab Notebooks/Data Augmentation Samples/2 Rotate and Shear'\n",
        "base_path_set_three = '/content/drive/MyDrive/Colab Notebooks/Data Augmentation Samples/3 Random Erasing'\n",
        "\n",
        "# Geometric augmentation function: distort and flip\n",
        "def distort_and_flip(path):\n",
        "    pipe = Augmentor.Pipeline(path)           # Create pipeline in path of dataset\n",
        "    pipe.flip_left_right(1)                   # Horizontally flip every image\n",
        "    pipe.random_distortion(1, 5, 5, 4)        # Randomly distort flipped images\n",
        "    pipe.process()                            # Process images in pipeline\n",
        "\n",
        "# Geometric augmentation: rotate and shear\n",
        "def rotate_and_shear(path):\n",
        "    pipe = Augmentor.Pipeline(path)           # Create pipeline in path of dataset\n",
        "    pipe.rotate(1, 25, 25)                    # Rotate every image by 45 degrees\n",
        "    pipe.shear(1, 15, 15)                     # Randomly shear between 0 and 15 degrees\n",
        "    pipe.process()                            # Process images in pipeline\n",
        "\n",
        "# Random occlusion: random erasing \n",
        "def random_erase(path):\n",
        "    pipe = Augmentor.Pipeline(path)           # Create pipeline in path of dataset\n",
        "    pipe.random_erasing(1, 0.15)              # Randomly erase area in every image\n",
        "    pipe.process()                            # Process images in pipeline\n",
        "\n",
        "# Perform augmentations\n",
        "# Distort and flip\n",
        "distort_and_flip(base_path_set_one)\n",
        "# Rotate and shear\n",
        "rotate_and_shear(base_path_set_two)\n",
        "# Random erase\n",
        "random_erase(base_path_set_three)\n",
        "random_erase(base_path_set_three+'/output')"
      ],
      "metadata": {
        "id": "eKLAiF93hSY7"
      },
      "execution_count": null,
      "outputs": []
    }
  ]
}