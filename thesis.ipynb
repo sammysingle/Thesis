{
  "nbformat": 4,
  "nbformat_minor": 0,
  "metadata": {
    "colab": {
      "provenance": [],
      "collapsed_sections": [],
      "mount_file_id": "1yU8CMX1cx3J0Zb6ITdRDHzdn-X1_hO_N",
      "authorship_tag": "ABX9TyM9C4zrwYNhvxnyWhpNkbZo",
      "include_colab_link": true
    },
    "kernelspec": {
      "name": "python3",
      "display_name": "Python 3"
    },
    "language_info": {
      "name": "python"
    }
  },
  "cells": [
    {
      "cell_type": "markdown",
      "metadata": {
        "id": "view-in-github",
        "colab_type": "text"
      },
      "source": [
        "<a href=\"https://colab.research.google.com/github/sammysingle/Thesis/blob/main/thesis.ipynb\" target=\"_parent\"><img src=\"https://colab.research.google.com/assets/colab-badge.svg\" alt=\"Open In Colab\"/></a>"
      ]
    },
    {
      "cell_type": "markdown",
      "source": [
        "# Image Preprocessing"
      ],
      "metadata": {
        "id": "Z17a00QembaE"
      }
    },
    {
      "cell_type": "code",
      "source": [
        "# Import data augmentation functions\n",
        "from keras.preprocessing.image import ImageDataGenerator\n",
        "from tensorflow.keras.utils import array_to_img, img_to_array, load_img\n",
        "import Augmentor\n",
        "import os\n",
        "\n",
        "# Constant values\n",
        "noImages = #####insert\n",
        "basePath = #####insert\n",
        "augmentorSecondPassPath = basePath + 'output/'\n",
        "augmentorThridPassPath = augmentorSecondPassPath + '/output/'\n",
        "\n",
        "# -------------------- Functions -------------------- #\n",
        "# Rename output files\n",
        "def renameFile(path, newName):\n",
        "    directory = os.listdir(path)\n",
        "    for file in directory:\n",
        "        os.rename(path+file, path+newName)\n",
        "\n",
        "# Augmentor data augmentation function\n",
        "def randomErasing(path, eraseArea, sampleSize)\n",
        "    pipe = Augmentor.Pipeline(path)\n",
        "    pipe.random_erasing(1, eraseArea)\n",
        "    pipe.sample(sampleSize)\n",
        "\n",
        "# ------------ Group 1: Rotation and Zoom ------------ #\n",
        "# Initialise ImageDataGenerator classes with augmentation parameters\n",
        "groupOneDataGen = ImageDataGenerator(\n",
        "    rotation_range = 90,\n",
        "    zoom_range = 0.5\n",
        ")\n",
        "\n",
        "\n",
        "\n",
        "# -------- Group 2: Horizontal flip and Shear -------- #\n",
        "\n",
        "\n",
        "# ------------- Group 3: Random Erasing -------------- #\n",
        "# First pass\n",
        "randomErase(basePath, 0.2, noImages)\n",
        "# Second pass\n",
        "randomErase(augmentorSecondPassPath, 0.2, noImages)\n",
        "# Third pass\n",
        "randomErase(augmentorThirdPassPath, 0.2, noImages)"
      ],
      "metadata": {
        "id": "jz-QjLOCmfHn"
      },
      "execution_count": null,
      "outputs": []
    },
    {
      "cell_type": "code",
      "source": [
        "import sys\n",
        "print(sys.version)"
      ],
      "metadata": {
        "colab": {
          "base_uri": "https://localhost:8080/"
        },
        "id": "QFEZY0EAMzxq",
        "outputId": "a964a6c3-0b65-47b2-9b55-745e2da6059e"
      },
      "execution_count": 1,
      "outputs": [
        {
          "output_type": "stream",
          "name": "stdout",
          "text": [
            "3.7.14 (default, Sep  8 2022, 00:06:44) \n",
            "[GCC 7.5.0]\n"
          ]
        }
      ]
    },
    {
      "cell_type": "markdown",
      "source": [
        "# Geometric Transformations Sample Image"
      ],
      "metadata": {
        "id": "vl5wTrUAlMiz"
      }
    },
    {
      "cell_type": "code",
      "execution_count": 2,
      "metadata": {
        "colab": {
          "base_uri": "https://localhost:8080/"
        },
        "id": "jGf5UKtAkWtg",
        "outputId": "9c0d7461-25d6-4e8f-c162-9b09576b17ad"
      },
      "outputs": [
        {
          "output_type": "stream",
          "name": "stdout",
          "text": [
            "Rotate and zoom successful\n",
            "Horizontal flip and shear successful\n"
          ]
        }
      ],
      "source": [
        "# Import data augmentation functions\n",
        "from keras.preprocessing.image import ImageDataGenerator\n",
        "from tensorflow.keras.utils import array_to_img, img_to_array, load_img\n",
        "\n",
        "# Initialise ImageDataGenerator classes with augmentation parameters\n",
        "# Rotation by 90 degrees range and zoom\n",
        "rotateAndZoom = ImageDataGenerator(\n",
        "    rotation_range = 90,\n",
        "    zoom_range = 0.5\n",
        ")\n",
        "# Horizontal flip and shear\n",
        "horizontalFlipAndShear = ImageDataGenerator(\n",
        "    horizontal_flip = True,\n",
        "    shear_range = 0.5\n",
        ")\n",
        "\n",
        "# Load in image \n",
        "img = load_img('/content/drive/MyDrive/Colab Notebooks/Data Augmentation Samples/Geometric Transformation/tomato_sample.jpg')\n",
        "# Convert input to array\n",
        "imgArray = img_to_array(img)\n",
        "# Reshape input image\n",
        "imgArray = imgArray.reshape((1, ) + imgArray.shape)\n",
        "\n",
        "# Generate Rotate and zoom example\n",
        "for batch in rotateAndZoom.flow(imgArray,\n",
        "                          batch_size = 1,\n",
        "                          save_to_dir = '/content/drive/MyDrive/Colab Notebooks/Data Augmentation Samples/Geometric Transformation/Output',\n",
        "                          save_prefix = 'rotated_and_zoomed_sample',\n",
        "                          save_format = 'jpeg'):\n",
        "    print('Rotate and zoom successful')\n",
        "    break\n",
        "# Generate Horizontal flip and shear example\n",
        "for batch in horizontalFlipAndShear.flow(imgArray, \n",
        "             batch_size = 1, \n",
        "             save_to_dir = '/content/drive/MyDrive/Colab Notebooks/Data Augmentation Samples/Geometric Transformation/Output',\n",
        "             save_prefix = 'horizontal_flip_and_shear_sample',\n",
        "             save_format = 'jpeg'):\n",
        "    print('Horizontal flip and shear successful')\n",
        "    break"
      ]
    },
    {
      "cell_type": "markdown",
      "source": [
        "# Random Occlusions and Sample Image"
      ],
      "metadata": {
        "id": "C7JZz8vRXLFW"
      }
    },
    {
      "cell_type": "code",
      "source": [
        "!pip install Augmentor"
      ],
      "metadata": {
        "colab": {
          "base_uri": "https://localhost:8080/"
        },
        "id": "PDFkygN6YRYI",
        "outputId": "69d3ee3e-eae3-453c-9ab9-5e5b5e41487d"
      },
      "execution_count": null,
      "outputs": [
        {
          "output_type": "stream",
          "name": "stdout",
          "text": [
            "Looking in indexes: https://pypi.org/simple, https://us-python.pkg.dev/colab-wheels/public/simple/\n",
            "Collecting Augmentor\n",
            "  Downloading Augmentor-0.2.10-py2.py3-none-any.whl (38 kB)\n",
            "Requirement already satisfied: future>=0.16.0 in /usr/local/lib/python3.7/dist-packages (from Augmentor) (0.16.0)\n",
            "Requirement already satisfied: Pillow>=5.2.0 in /usr/local/lib/python3.7/dist-packages (from Augmentor) (7.1.2)\n",
            "Requirement already satisfied: numpy>=1.11.0 in /usr/local/lib/python3.7/dist-packages (from Augmentor) (1.21.6)\n",
            "Requirement already satisfied: tqdm>=4.9.0 in /usr/local/lib/python3.7/dist-packages (from Augmentor) (4.64.1)\n",
            "Installing collected packages: Augmentor\n",
            "Successfully installed Augmentor-0.2.10\n"
          ]
        }
      ]
    },
    {
      "cell_type": "code",
      "source": [
        "# Import Augmentor package\n",
        "import Augmentor\n",
        "import os\n",
        "\n",
        "# Rename output files\n",
        "def renameFile(path, newName):\n",
        "    directory = os.listdir(path)\n",
        "    for file in directory:\n",
        "        os.rename(path+file, path+newName)\n",
        "\n",
        "# Apply random errasing over a set area for samples in path\n",
        "def randomErase(path, eraseArea, sampleSize):\n",
        "    pipe = Augmentor.Pipeline(path)\n",
        "    pipe.random_erasing(1, eraseArea)\n",
        "    pipe.sample(sampleSize)\n",
        "\n",
        "# First pass\n",
        "randomErase('/content/drive/MyDrive/Colab Notebooks/Data Augmentation Samples/Random Occlusion', 0.2, 1)\n",
        "# Second pass\n",
        "randomErase('/content/drive/MyDrive/Colab Notebooks/Data Augmentation Samples/Random Occlusion/output', 0.2, 1)\n",
        "# Third pass\n",
        "randomErase('/content/drive/MyDrive/Colab Notebooks/Data Augmentation Samples/Random Occlusion/output/output', 0.2, 1)\n",
        "# Rename file\n",
        "renameFile(r\"/content/drive/MyDrive/Colab Notebooks/Data Augmentation Samples/Random Occlusion/output/output/output/\", 'random_erasing.jpg')"
      ],
      "metadata": {
        "colab": {
          "base_uri": "https://localhost:8080/"
        },
        "id": "qzUjSzL_XQDu",
        "outputId": "1b3f8b10-f04e-4efb-8f6b-1d6cbca4e0b4"
      },
      "execution_count": null,
      "outputs": [
        {
          "output_type": "stream",
          "name": "stdout",
          "text": [
            "Initialised with 1 image(s) found.\n",
            "Output directory set to /content/drive/MyDrive/Colab Notebooks/Data Augmentation Samples/Random Occlusion/output."
          ]
        },
        {
          "output_type": "stream",
          "name": "stderr",
          "text": [
            "Processing <PIL.JpegImagePlugin.JpegImageFile image mode=RGB size=225x225 at 0x7FF2DB2B2C10>: 100%|██████████| 1/1 [00:00<00:00, 60.94 Samples/s]\n"
          ]
        },
        {
          "output_type": "stream",
          "name": "stdout",
          "text": [
            "Initialised with 1 image(s) found.\n",
            "Output directory set to /content/drive/MyDrive/Colab Notebooks/Data Augmentation Samples/Random Occlusion/output/output."
          ]
        },
        {
          "output_type": "stream",
          "name": "stderr",
          "text": [
            "Processing <PIL.JpegImagePlugin.JpegImageFile image mode=RGB size=225x225 at 0x7FF2DC5AA550>: 100%|██████████| 1/1 [00:00<00:00, 52.17 Samples/s]\n"
          ]
        },
        {
          "output_type": "stream",
          "name": "stdout",
          "text": [
            "Initialised with 1 image(s) found.\n",
            "Output directory set to /content/drive/MyDrive/Colab Notebooks/Data Augmentation Samples/Random Occlusion/output/output/output."
          ]
        },
        {
          "output_type": "stream",
          "name": "stderr",
          "text": [
            "Processing <PIL.JpegImagePlugin.JpegImageFile image mode=RGB size=225x225 at 0x7FF2DC5AA2D0>: 100%|██████████| 1/1 [00:00<00:00, 66.95 Samples/s]\n"
          ]
        }
      ]
    }
  ]
}