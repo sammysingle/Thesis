{
  "nbformat": 4,
  "nbformat_minor": 0,
  "metadata": {
    "colab": {
      "provenance": [],
      "collapsed_sections": [
        "HmkX1RnshNFx",
        "NOwmY-_ahTXu"
      ],
      "authorship_tag": "ABX9TyOaIR53knyD5pmUOvebhgjy",
      "include_colab_link": true
    },
    "kernelspec": {
      "name": "python3",
      "display_name": "Python 3"
    },
    "language_info": {
      "name": "python"
    }
  },
  "cells": [
    {
      "cell_type": "markdown",
      "metadata": {
        "id": "view-in-github",
        "colab_type": "text"
      },
      "source": [
        "<a href=\"https://colab.research.google.com/github/sammysingle/Thesis/blob/main/ColabWorkspaces/data_augmentation_samples.ipynb\" target=\"_parent\"><img src=\"https://colab.research.google.com/assets/colab-badge.svg\" alt=\"Open In Colab\"/></a>"
      ]
    },
    {
      "cell_type": "markdown",
      "source": [
        "# Geometric Transformations"
      ],
      "metadata": {
        "id": "HmkX1RnshNFx"
      }
    },
    {
      "cell_type": "code",
      "execution_count": null,
      "metadata": {
        "id": "-uTZrD1mhCWs"
      },
      "outputs": [],
      "source": [
        "# Import data augmentation functions\n",
        "from keras.preprocessing.image import ImageDataGenerator\n",
        "from tensorflow.keras.utils import array_to_img, img_to_array, load_img\n",
        "\n",
        "# Initialise ImageDataGenerator classes with augmentation parameters\n",
        "# Rotation by 90 degrees range and zoom\n",
        "rotateAndZoom = ImageDataGenerator(\n",
        "    rotation_range = 90,\n",
        "    zoom_range = 0.5\n",
        ")\n",
        "# Horizontal flip and shear\n",
        "horizontalFlipAndShear = ImageDataGenerator(\n",
        "    horizontal_flip = True,\n",
        "    shear_range = 0.5\n",
        ")\n",
        "\n",
        "# Load in image \n",
        "img = load_img('/content/drive/MyDrive/Colab Notebooks/Data Augmentation Samples/Geometric Transformation/tomato_sample.jpg')\n",
        "# Convert input to array\n",
        "imgArray = img_to_array(img)\n",
        "# Reshape input image\n",
        "imgArray = imgArray.reshape((1, ) + imgArray.shape)\n",
        "\n",
        "# Generate Rotate and zoom example\n",
        "for batch in rotateAndZoom.flow(imgArray,\n",
        "                          batch_size = 1,\n",
        "                          save_to_dir = '/content/drive/MyDrive/Colab Notebooks/Data Augmentation Samples/Geometric Transformation/Output',\n",
        "                          save_prefix = 'rotated_and_zoomed_sample',\n",
        "                          save_format = 'jpeg'):\n",
        "    print('Rotate and zoom successful')\n",
        "    break\n",
        "# Generate Horizontal flip and shear example\n",
        "for batch in horizontalFlipAndShear.flow(imgArray, \n",
        "             batch_size = 1, \n",
        "             save_to_dir = '/content/drive/MyDrive/Colab Notebooks/Data Augmentation Samples/Geometric Transformation/Output',\n",
        "             save_prefix = 'horizontal_flip_and_shear_sample',\n",
        "             save_format = 'jpeg'):\n",
        "    print('Horizontal flip and shear successful')\n",
        "    break"
      ]
    },
    {
      "cell_type": "markdown",
      "source": [
        "# Random Occlusion"
      ],
      "metadata": {
        "id": "NOwmY-_ahTXu"
      }
    },
    {
      "cell_type": "code",
      "source": [
        "!pip install Augmentor"
      ],
      "metadata": {
        "id": "AUIduQBMhXE7"
      },
      "execution_count": null,
      "outputs": []
    },
    {
      "cell_type": "code",
      "source": [
        "# Import Augmentor package\n",
        "import Augmentor\n",
        "import os\n",
        "\n",
        "# Rename output files\n",
        "def renameFile(path, newName):\n",
        "    directory = os.listdir(path)\n",
        "    for file in directory:\n",
        "        os.rename(path+file, path+newName)\n",
        "\n",
        "# Apply random errasing over a set area for samples in path\n",
        "def randomErase(path, eraseArea, sampleSize):\n",
        "    pipe = Augmentor.Pipeline(path)\n",
        "    pipe.random_erasing(1, eraseArea)\n",
        "    pipe.sample(sampleSize)\n",
        "\n",
        "# First pass\n",
        "randomErase('/content/drive/MyDrive/Colab Notebooks/Data Augmentation Samples/Random Occlusion', 0.2, 1)\n",
        "# Second pass\n",
        "randomErase('/content/drive/MyDrive/Colab Notebooks/Data Augmentation Samples/Random Occlusion/output', 0.2, 1)\n",
        "# Third pass\n",
        "randomErase('/content/drive/MyDrive/Colab Notebooks/Data Augmentation Samples/Random Occlusion/output/output', 0.2, 1)\n",
        "# Rename file\n",
        "renameFile(r\"/content/drive/MyDrive/Colab Notebooks/Data Augmentation Samples/Random Occlusion/output/output/output/\", 'random_erasing.jpg')"
      ],
      "metadata": {
        "id": "RHGEs-6thaB0"
      },
      "execution_count": null,
      "outputs": []
    }
  ]
}